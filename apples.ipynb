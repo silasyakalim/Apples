{
 "cells": [
  {
   "cell_type": "markdown",
   "metadata": {},
   "source": [
    "### Datermining sutability areas for growing aplles based on weigts given and climatic conditions "
   ]
  },
  {
   "cell_type": "markdown",
   "metadata": {},
   "source": [
    "Data give were \n",
    "\n",
    "1. Climatic data which include: Temperature, Rainfall and Humidity\n",
    "2. Weights of the various conditions which were determine by literature review. Weight for rainfall, temperature as well as humidity. \n",
    "3. Regions which all had their various climatic conditions. \n",
    "\n",
    "Weight were multiplied by the various climatic conditions to and added up. \n"
   ]
  },
  {
   "cell_type": "code",
   "execution_count": 3,
   "metadata": {},
   "outputs": [
    {
     "name": "stdout",
     "output_type": "stream",
     "text": [
      "56.8\n"
     ]
    }
   ],
   "source": [
    "#Defining the data\n",
    "temperature_weight, rainfall_weigt, humidity_weight = 0.3, 0.2, 0.5\n",
    "\n",
    "kanton = [73, 67, 43] #where 73 = temperature, 67 = rainfall and 43 = humidity\n",
    "johto = [91, 88, 64]\n",
    "hoe = [87, 134, 58]\n",
    "sinnoh = [102, 43, 37]\n",
    "unova = [69, 96, 70]\n",
    "\n",
    "#formula for determinig the value per region\n",
    "yeild_of_apple = temperature_weight * temperature_of_region + rainfall_weigt * rainfall_of_region + humidity_weight * humidity_of_region\n",
    "\n"
   ]
  },
  {
   "cell_type": "code",
   "execution_count": 25,
   "metadata": {},
   "outputs": [
    {
     "name": "stdout",
     "output_type": "stream",
     "text": [
      "(73, 0.3)\n",
      "(67, 0.2)\n",
      "(43, 0.5)\n"
     ]
    }
   ],
   "source": [
    "\n",
    "#writing a function to calculate all we set all to a lsit \n",
    "kanton = [73, 67, 43]\n",
    "johto = [91, 88, 64]\n",
    "hoe = [87, 134, 58]\n",
    "sinnoh = [102, 43, 37]\n",
    "unova = [69, 96, 70]\n",
    "\n",
    "#Weigghts \n",
    "wights = [0.3,0.2,0.5]\n",
    "\n",
    "#writing a function to calculate all \n",
    "def apple (region,wights):\n",
    "    results = 0\n",
    "    for x,w in zip(region,wights):\n",
    "        results = results + x*w\n",
    "    return results\n",
    "apple(johto,wights)\n",
    "\n",
    "\"\"\"\" the zip funtion visualize the data in a vector format \n",
    "and multiply the corresponding vectors. Try that and see\n",
    "\"\"\"\n",
    "for items in zip(kanton,wights):\n",
    "    print(items)\n",
    "\n",
    "\"\"\"\" the coresspondong values can be represented by x and w since they are in vector or toopls format\n",
    "the we insert x and w in our foemula to calculate the value for each region\n",
    "\"\"\"\""
   ]
  },
  {
   "cell_type": "code",
   "execution_count": 24,
   "metadata": {},
   "outputs": [
    {
     "name": "stdout",
     "output_type": "stream",
     "text": [
      "(73, 0.3)\n",
      "(67, 0.2)\n",
      "(43, 0.5)\n"
     ]
    }
   ],
   "source": [
    "\n",
    "for items in zip(kanton, wights):\n",
    "    print(items)\n"
   ]
  }
 ],
 "metadata": {
  "kernelspec": {
   "display_name": "Python 3",
   "language": "python",
   "name": "python3"
  },
  "language_info": {
   "codemirror_mode": {
    "name": "ipython",
    "version": 3
   },
   "file_extension": ".py",
   "mimetype": "text/x-python",
   "name": "python",
   "nbconvert_exporter": "python",
   "pygments_lexer": "ipython3",
   "version": "3.12.4"
  }
 },
 "nbformat": 4,
 "nbformat_minor": 2
}
